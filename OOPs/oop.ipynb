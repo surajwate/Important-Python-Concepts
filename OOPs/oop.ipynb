{
 "cells": [
  {
   "cell_type": "markdown",
   "source": [
    "# Python Object-Oriented Programming"
   ],
   "metadata": {}
  },
  {
   "cell_type": "markdown",
   "source": [
    "## Classes and Instances"
   ],
   "metadata": {}
  },
  {
   "cell_type": "code",
   "execution_count": 6,
   "source": [
    "class Employee:\r\n",
    "    \r\n",
    "    def __init__(self, first, last, pay):\r\n",
    "        self.first = first\r\n",
    "        self.last = last\r\n",
    "        self.pay = pay\r\n",
    "        self.email = first + '.' + last + '@company.com'\r\n",
    "\r\n",
    "    def fullname(self):\r\n",
    "        return '{} {}'.format(self.first, self.last)\r\n",
    "\r\n",
    "\r\n",
    "emp1 = Employee('Amit', 'Dravid', 50000)\r\n",
    "emp2 = Employee('Sachin', 'Rahane', 54000)\r\n",
    "\r\n",
    "print(emp1.email)\r\n",
    "print(emp2.email)\r\n",
    "\r\n",
    "# same output for both print statement\r\n",
    "print(emp1.fullname())\r\n",
    "print(Employee.fullname(emp1))\r\n",
    "\r\n",
    "print(emp2.fullname())\r\n",
    "\r\n"
   ],
   "outputs": [
    {
     "output_type": "stream",
     "name": "stdout",
     "text": [
      "Amit.Dravid@company.com\n",
      "Sachin.Rahane@company.com\n",
      "Amit Dravid\n",
      "Amit Dravid\n",
      "Sachin Rahane\n"
     ]
    }
   ],
   "metadata": {}
  },
  {
   "cell_type": "markdown",
   "source": [
    "## Class Variables"
   ],
   "metadata": {}
  },
  {
   "cell_type": "code",
   "execution_count": 15,
   "source": [
    "class Employee:\r\n",
    "\r\n",
    "    num_of_emps = 0\r\n",
    "    raise_amount = 1.04\r\n",
    "    \r\n",
    "    def __init__(self, first, last, pay):\r\n",
    "        self.first = first\r\n",
    "        self.last = last\r\n",
    "        self.pay = pay\r\n",
    "        self.email = first + '.' + last + '@company.com'\r\n",
    "\r\n",
    "        Employee.num_of_emps += 1\r\n",
    "\r\n",
    "    def fullname(self):\r\n",
    "        return '{} {}'.format(self.first, self.last)\r\n",
    "\r\n",
    "    def apply_raise(self):\r\n",
    "        self.pay = int(self.pay * self.raise_amount)\r\n",
    "\r\n",
    "\r\n",
    "print(\"\\nNumber of employee: \", Employee.num_of_emps)\r\n",
    "\r\n",
    "emp1 = Employee('Amit', 'Dravid', 50000)\r\n",
    "emp2 = Employee('Sachin', 'Rahane', 54000)\r\n",
    "\r\n",
    "print(emp1.pay)\r\n",
    "emp1.apply_raise()\r\n",
    "print(emp1.pay)\r\n",
    "\r\n",
    "print(\"\\nAttributes of emp1 :    \" , emp1.__dict__)\r\n",
    "print(\"\\nAttributes of Employee :    \" , Employee.__dict__)\r\n",
    "\r\n",
    "emp2.raise_amount = 1.05\r\n",
    "print(emp2.pay)\r\n",
    "emp2.apply_raise()\r\n",
    "print(emp2.pay)\r\n",
    "\r\n",
    "print(\"\\nAttributes of emp2 :    \" , emp2.__dict__)\r\n",
    "print(\"\\nAttributes of Employee :    \" , Employee.__dict__)\r\n",
    "\r\n",
    "print(\"\\nNumber of employee: \", Employee.num_of_emps)"
   ],
   "outputs": [
    {
     "output_type": "stream",
     "name": "stdout",
     "text": [
      "\n",
      "Number of employee:  0\n",
      "50000\n",
      "52000\n",
      "\n",
      "Attributes of emp1 :     {'first': 'Amit', 'last': 'Dravid', 'pay': 52000, 'email': 'Amit.Dravid@company.com'}\n",
      "\n",
      "Attributes of Employee :     {'__module__': '__main__', 'num_of_emps': 2, 'raise_amount': 1.04, '__init__': <function Employee.__init__ at 0x00000236FCA57C10>, 'fullname': <function Employee.fullname at 0x00000236FDC7A5E0>, 'apply_raise': <function Employee.apply_raise at 0x00000236FDC7A4C0>, '__dict__': <attribute '__dict__' of 'Employee' objects>, '__weakref__': <attribute '__weakref__' of 'Employee' objects>, '__doc__': None}\n",
      "54000\n",
      "56700\n",
      "\n",
      "Attributes of emp2 :     {'first': 'Sachin', 'last': 'Rahane', 'pay': 56700, 'email': 'Sachin.Rahane@company.com', 'raise_amount': 1.05}\n",
      "\n",
      "Attributes of Employee :     {'__module__': '__main__', 'num_of_emps': 2, 'raise_amount': 1.04, '__init__': <function Employee.__init__ at 0x00000236FCA57C10>, 'fullname': <function Employee.fullname at 0x00000236FDC7A5E0>, 'apply_raise': <function Employee.apply_raise at 0x00000236FDC7A4C0>, '__dict__': <attribute '__dict__' of 'Employee' objects>, '__weakref__': <attribute '__weakref__' of 'Employee' objects>, '__doc__': None}\n",
      "\n",
      "Number of employee:  2\n"
     ]
    }
   ],
   "metadata": {}
  },
  {
   "cell_type": "markdown",
   "source": [
    "## Classmethods and Staticmethods"
   ],
   "metadata": {}
  },
  {
   "cell_type": "code",
   "execution_count": 18,
   "source": [
    "class Employee:\r\n",
    "\r\n",
    "    num_of_emps = 0\r\n",
    "    raise_amount = 1.04\r\n",
    "    \r\n",
    "    def __init__(self, first, last, pay):\r\n",
    "        self.first = first\r\n",
    "        self.last = last\r\n",
    "        self.pay = pay\r\n",
    "        self.email = first + '.' + last + '@company.com'\r\n",
    "\r\n",
    "        Employee.num_of_emps += 1\r\n",
    "\r\n",
    "    def fullname(self):\r\n",
    "        return '{} {}'.format(self.first, self.last)\r\n",
    "\r\n",
    "    def apply_raise(self):\r\n",
    "        self.pay = int(self.pay * self.raise_amount)\r\n",
    "\r\n",
    "    @classmethod\r\n",
    "    def set_raise_amt(cls, amount):\r\n",
    "        cls.raise_amount = amount\r\n",
    "\r\n",
    "\r\n",
    "\r\n",
    "emp1 = Employee('Amit', 'Dravid', 50000)\r\n",
    "emp2 = Employee('Sachin', 'Rahane', 54000)\r\n",
    "\r\n",
    "Employee.set_raise_amt(1.05)\r\n",
    "\r\n",
    "print(Employee.raise_amount)\r\n",
    "print(emp1.raise_amount)\r\n",
    "print(emp2.raise_amount)"
   ],
   "outputs": [
    {
     "output_type": "stream",
     "name": "stdout",
     "text": [
      "1.05\n",
      "1.05\n",
      "1.05\n"
     ]
    }
   ],
   "metadata": {}
  },
  {
   "cell_type": "code",
   "execution_count": 19,
   "source": [
    "# Using class method as alternative class contstuctor\r\n",
    "\r\n",
    "class Employee:\r\n",
    "\r\n",
    "    num_of_emps = 0\r\n",
    "    raise_amount = 1.04\r\n",
    "    \r\n",
    "    def __init__(self, first, last, pay):\r\n",
    "        self.first = first\r\n",
    "        self.last = last\r\n",
    "        self.pay = pay\r\n",
    "        self.email = first + '.' + last + '@company.com'\r\n",
    "\r\n",
    "        Employee.num_of_emps += 1\r\n",
    "\r\n",
    "    def fullname(self):\r\n",
    "        return '{} {}'.format(self.first, self.last)\r\n",
    "\r\n",
    "    def apply_raise(self):\r\n",
    "        self.pay = int(self.pay * self.raise_amount)\r\n",
    "\r\n",
    "    @classmethod\r\n",
    "    def set_raise_amt(cls, amount):\r\n",
    "        cls.raise_amount = amount\r\n",
    "\r\n",
    "    @classmethod\r\n",
    "    def from_string(cls, emp_str):\r\n",
    "        first, last, pay = emp_str.split('-')\r\n",
    "        return cls(first, last, pay)\r\n",
    "\r\n",
    "\r\n",
    "emp_str1 = 'Sahil-Sharma-43000'\r\n",
    "emp_str2 = 'Satish-Saha-51010'\r\n",
    "emp_str3 = 'Ritesh-Narayan-50500'\r\n",
    "\r\n",
    "new_emp1 = Employee.from_string(emp_str1)\r\n",
    "\r\n",
    "print(new_emp1.email)\r\n",
    "print(new_emp1.pay)"
   ],
   "outputs": [
    {
     "output_type": "stream",
     "name": "stdout",
     "text": [
      "Sahil.Sharma@company.com\n",
      "43000\n"
     ]
    }
   ],
   "metadata": {}
  },
  {
   "cell_type": "code",
   "execution_count": 20,
   "source": [
    "# Creating Static Method\r\n",
    "# You should use the static method where you don't use instance or class anywhere in the function.\r\n",
    "\r\n",
    "class Employee:\r\n",
    "\r\n",
    "    num_of_emps = 0\r\n",
    "    raise_amount = 1.04\r\n",
    "    \r\n",
    "    def __init__(self, first, last, pay):\r\n",
    "        self.first = first\r\n",
    "        self.last = last\r\n",
    "        self.pay = pay\r\n",
    "        self.email = first + '.' + last + '@company.com'\r\n",
    "\r\n",
    "        Employee.num_of_emps += 1\r\n",
    "\r\n",
    "    def fullname(self):\r\n",
    "        return '{} {}'.format(self.first, self.last)\r\n",
    "\r\n",
    "    def apply_raise(self):\r\n",
    "        self.pay = int(self.pay * self.raise_amount)\r\n",
    "\r\n",
    "    @classmethod\r\n",
    "    def set_raise_amt(cls, amount):\r\n",
    "        cls.raise_amount = amount\r\n",
    "\r\n",
    "    @classmethod\r\n",
    "    def from_string(cls, emp_str):\r\n",
    "        first, last, pay = emp_str.split('-')\r\n",
    "        return cls(first, last, pay)\r\n",
    "\r\n",
    "    @staticmethod\r\n",
    "    def is_workday(day):\r\n",
    "        if day.weekday() == 5 or day.weekday() == 6:\r\n",
    "            return False\r\n",
    "        else:\r\n",
    "            return True\r\n",
    "\r\n",
    "\r\n",
    "emp1 = Employee('Amit', 'Dravid', 50000)\r\n",
    "emp2 = Employee('Sachin', 'Rahane', 54000)\r\n",
    "\r\n",
    "import datetime\r\n",
    "my_date = datetime.date(2021, 5, 21)\r\n",
    "\r\n",
    "print(Employee.is_workday(my_date))"
   ],
   "outputs": [
    {
     "output_type": "stream",
     "name": "stdout",
     "text": [
      "True\n"
     ]
    }
   ],
   "metadata": {}
  },
  {
   "cell_type": "markdown",
   "source": [
    "## Inheritance"
   ],
   "metadata": {}
  },
  {
   "cell_type": "code",
   "execution_count": 33,
   "source": [
    "class Employee:\r\n",
    "\r\n",
    "    num_of_emps = 0\r\n",
    "    raise_amount = 1.04\r\n",
    "    \r\n",
    "    def __init__(self, first, last, pay):\r\n",
    "        self.first = first\r\n",
    "        self.last = last\r\n",
    "        self.pay = pay\r\n",
    "        self.email = first + '.' + last + '@company.com'\r\n",
    "\r\n",
    "        Employee.num_of_emps += 1\r\n",
    "\r\n",
    "    def fullname(self):\r\n",
    "        return '{} {}'.format(self.first, self.last)\r\n",
    "\r\n",
    "    def apply_raise(self):\r\n",
    "        self.pay = int(self.pay * self.raise_amount)\r\n",
    "\r\n",
    "\r\n",
    "class Developer(Employee):\r\n",
    "    raise_amount = 1.10\r\n",
    "\r\n",
    "    def __init__(self, first, last, pay, prog_lang):\r\n",
    "        super().__init__(first, last, pay)\r\n",
    "        self.prog_lang = prog_lang\r\n",
    "\r\n",
    "\r\n",
    "class Manager(Employee):\r\n",
    "\r\n",
    "    def __init__(self, first, last, pay, employees=None):\r\n",
    "        super().__init__(first, last, pay)\r\n",
    "        if employees == None:\r\n",
    "            self.employees = []\r\n",
    "        else:\r\n",
    "            self.employees = employees\r\n",
    "\r\n",
    "    def add_emp(self, emp):\r\n",
    "        if emp not in self.employees:\r\n",
    "            self.employees.append(emp)\r\n",
    "\r\n",
    "    def remove_emp(self, emp):\r\n",
    "        if emp in self.employees:\r\n",
    "            self.employees.remove(emp)\r\n",
    "\r\n",
    "    def print_emps(self):\r\n",
    "        for emp in self.employees:\r\n",
    "            print('--->', emp.fullname())\r\n",
    "\r\n",
    "        \r\n",
    "dev1 = Developer('Amit', 'Dravid', 50000, 'Python')\r\n",
    "dev2 = Developer('Sachin', 'Rahane', 54000, 'Kotlin')\r\n",
    "\r\n",
    "mgr_1 = Manager('Harshad', 'Patel', 90000, [dev1])\r\n",
    "\r\n",
    "print(mgr_1.email)\r\n",
    "mgr_1.print_emps()\r\n",
    "\r\n",
    "mgr_1.add_emp(dev2)\r\n",
    "mgr_1.remove_emp(dev1)\r\n",
    "mgr_1.print_emps()\r\n",
    "\r\n"
   ],
   "outputs": [
    {
     "output_type": "stream",
     "name": "stdout",
     "text": [
      "Harshad.Patel@company.com\n",
      "---> Amit Dravid\n",
      "---> Sachin Rahane\n"
     ]
    }
   ],
   "metadata": {}
  },
  {
   "cell_type": "code",
   "execution_count": 34,
   "source": [
    "\r\n",
    "dev1 = Developer('Amit', 'Dravid', 50000, 'Python')\r\n",
    "dev2 = Developer('Sachin', 'Rahane', 54000, 'Kotlin')\r\n",
    "\r\n",
    "\r\n",
    "print(dev1.email)\r\n",
    "print(dev1.prog_lang)\r\n",
    "\r\n",
    "\r\n",
    "print(dev1.pay)\r\n",
    "dev1.apply_raise()\r\n",
    "print(dev1.pay)"
   ],
   "outputs": [
    {
     "output_type": "stream",
     "name": "stdout",
     "text": [
      "Amit.Dravid@company.com\n",
      "Python\n",
      "50000\n",
      "55000\n"
     ]
    }
   ],
   "metadata": {}
  },
  {
   "cell_type": "code",
   "execution_count": null,
   "source": [
    "print(help(Developer))"
   ],
   "outputs": [],
   "metadata": {}
  },
  {
   "cell_type": "markdown",
   "source": [
    "## Special (Magic/Dunder) Methods"
   ],
   "metadata": {}
  },
  {
   "cell_type": "code",
   "execution_count": 40,
   "source": [
    "class Employee:\r\n",
    "\r\n",
    "    raise_amount = 1.04\r\n",
    "    \r\n",
    "    def __init__(self, first, last, pay):\r\n",
    "        self.first = first\r\n",
    "        self.last = last\r\n",
    "        self.pay = pay\r\n",
    "        self.email = first + '.' + last + '@company.com'\r\n",
    "\r\n",
    "\r\n",
    "    def fullname(self):\r\n",
    "        return '{} {}'.format(self.first, self.last)\r\n",
    "\r\n",
    "    def apply_raise(self):\r\n",
    "        self.pay = int(self.pay * self.raise_amount)\r\n",
    "\r\n",
    "    def __repr__(self):\r\n",
    "        return \"Employee('{}', '{}', {})\".format(self.first, self.last, self.pay)\r\n",
    "\r\n",
    "    def __str__(self):\r\n",
    "        return '{} - {}'.format(self.fullname(), self.email)\r\n",
    "\r\n",
    "\r\n",
    "emp1 = Employee('Amit', 'Dravid', 50000)\r\n",
    "emp2 = Employee('Sachin', 'Rahane', 54000)\r\n",
    "\r\n",
    "\r\n",
    "print(repr(emp1))\r\n",
    "print(str(emp1))"
   ],
   "outputs": [
    {
     "output_type": "stream",
     "name": "stdout",
     "text": [
      "Employee('Amit', 'Dravid', 50000)\n",
      "Amit Dravid - Amit.Dravid@company.com\n"
     ]
    }
   ],
   "metadata": {}
  },
  {
   "cell_type": "markdown",
   "source": [
    "For more details look into python docs. \"Emulating numeric types\"."
   ],
   "metadata": {}
  },
  {
   "cell_type": "markdown",
   "source": [
    "## Property Decorators\r\n",
    "\r\n",
    "Getters, Setters, and Deleters"
   ],
   "metadata": {}
  },
  {
   "cell_type": "code",
   "execution_count": 42,
   "source": [
    "class Employee:\r\n",
    "    \r\n",
    "    def __init__(self, first, last):\r\n",
    "        self.first = first\r\n",
    "        self.last = last\r\n",
    "\r\n",
    "    @property\r\n",
    "    def email(self):\r\n",
    "        return '{}.{}@company.com'.format(self.first, self.last)\r\n",
    "\r\n",
    "    def fullname(self):\r\n",
    "        return '{} {}'.format(self.first, self.last)\r\n",
    "\r\n",
    "\r\n",
    "emp1 = Employee('Amit', 'Dravid')\r\n",
    "\r\n",
    "print(emp1.first)\r\n",
    "print(emp1.last)\r\n",
    "print(emp1.email)\r\n",
    "print(emp1.fullname())"
   ],
   "outputs": [
    {
     "output_type": "stream",
     "name": "stdout",
     "text": [
      "Amit\n",
      "Dravid\n",
      "Amit.Dravid@company.com\n",
      "Amit Dravid\n"
     ]
    }
   ],
   "metadata": {}
  },
  {
   "cell_type": "code",
   "execution_count": 46,
   "source": [
    "# example for setter\r\n",
    "\r\n",
    "class Employee:\r\n",
    "    \r\n",
    "    def __init__(self, first, last):\r\n",
    "        self.first = first\r\n",
    "        self.last = last\r\n",
    "\r\n",
    "    @property\r\n",
    "    def email(self):\r\n",
    "        return '{}.{}@company.com'.format(self.first, self.last)\r\n",
    "\r\n",
    "    @property\r\n",
    "    def fullname(self):\r\n",
    "        return '{} {}'.format(self.first, self.last)\r\n",
    "\r\n",
    "    @fullname.setter\r\n",
    "    def fullname(self, name):\r\n",
    "        first, last = name.split(' ')\r\n",
    "        self.first = first\r\n",
    "        self.last = last\r\n",
    "\r\n",
    "\r\n",
    "emp1 = Employee('Amit', 'Dravid')\r\n",
    "\r\n",
    "emp1.fullname = 'Rohit Nandy'\r\n",
    "\r\n",
    "print(emp1.first)\r\n",
    "print(emp1.last)\r\n",
    "print(emp1.email)\r\n",
    "print(emp1.fullname)"
   ],
   "outputs": [
    {
     "output_type": "stream",
     "name": "stdout",
     "text": [
      "Rohit\n",
      "Nandy\n",
      "Rohit.Nandy@company.com\n",
      "Rohit Nandy\n"
     ]
    }
   ],
   "metadata": {}
  },
  {
   "cell_type": "markdown",
   "source": [
    "@property allow us to use the method as a attribute."
   ],
   "metadata": {}
  },
  {
   "cell_type": "code",
   "execution_count": 48,
   "source": [
    "# example for deleter\r\n",
    "\r\n",
    "class Employee:\r\n",
    "    \r\n",
    "    def __init__(self, first, last):\r\n",
    "        self.first = first\r\n",
    "        self.last = last\r\n",
    "\r\n",
    "    @property\r\n",
    "    def email(self):\r\n",
    "        return '{}.{}@company.com'.format(self.first, self.last)\r\n",
    "\r\n",
    "    @property\r\n",
    "    def fullname(self):\r\n",
    "        return '{} {}'.format(self.first, self.last)\r\n",
    "\r\n",
    "    @fullname.setter\r\n",
    "    def fullname(self, name):\r\n",
    "        first, last = name.split(' ')\r\n",
    "        self.first = first\r\n",
    "        self.last = last\r\n",
    "\r\n",
    "    @fullname.deleter\r\n",
    "    def fullname(self):\r\n",
    "        print('Delete Name!')\r\n",
    "        self.first = None\r\n",
    "        self.last = None\r\n",
    "\r\n",
    "\r\n",
    "emp1 = Employee('Amit', 'Dravid')\r\n",
    "\r\n",
    "emp1.fullname = 'Rohit Nandy'\r\n",
    "\r\n",
    "print(emp1.first)\r\n",
    "print(emp1.last)\r\n",
    "print(emp1.email)\r\n",
    "print(emp1.fullname)\r\n",
    "\r\n",
    "del emp1.fullname\r\n",
    "\r\n",
    "\r\n",
    "print(emp1.first)\r\n",
    "print(emp1.last)\r\n",
    "print(emp1.email)\r\n",
    "print(emp1.fullname)"
   ],
   "outputs": [
    {
     "output_type": "stream",
     "name": "stdout",
     "text": [
      "Rohit\n",
      "Nandy\n",
      "Rohit.Nandy@company.com\n",
      "Rohit Nandy\n",
      "Delete Name!\n",
      "None\n",
      "None\n",
      "None.None@company.com\n",
      "None None\n"
     ]
    }
   ],
   "metadata": {}
  }
 ],
 "metadata": {
  "orig_nbformat": 4,
  "language_info": {
   "name": "python",
   "version": "3.9.5",
   "mimetype": "text/x-python",
   "codemirror_mode": {
    "name": "ipython",
    "version": 3
   },
   "pygments_lexer": "ipython3",
   "nbconvert_exporter": "python",
   "file_extension": ".py"
  },
  "kernelspec": {
   "name": "python3",
   "display_name": "Python 3.9.5 64-bit"
  },
  "interpreter": {
   "hash": "ee5cc6fef2d70a7e71ee3826687cbd150f18158e0b1eef11d4f4f92bb920e304"
  }
 },
 "nbformat": 4,
 "nbformat_minor": 2
}