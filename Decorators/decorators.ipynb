{
 "cells": [
  {
   "cell_type": "markdown",
   "metadata": {},
   "source": [
    "# Decorators\n"
   ]
  },
  {
   "cell_type": "markdown",
   "metadata": {},
   "source": [
    "## First-Class Functions\n",
    "\n",
    "\"A Programming language is said to have first-class functions if it treasts functions as first-class citizens.\"\n",
    "\n",
    "### First-Class Citizen (Programming)\n",
    "\n",
    "\"A first-class citizen (sometimes called first-class objects) in a programming language is an entity which supposts all the operations generally available to other entities. These operations typically include being passed as an argument, returned from a function, and assigned to a variable."
   ]
  },
  {
   "cell_type": "markdown",
   "metadata": {},
   "source": [
    "## First Class Objects\n",
    "\n",
    "In Python, functions are first class objects that means that functions in Python can be used or passed as arguments.\n",
    "\n",
    "Properties of first class functions:\n",
    "\n",
    "- A function is an instance of the Object type.\n",
    "- You can store the function in a variable.\n",
    "- You can pass the function as a parameter to another function.\n",
    "- You can return the function from a function.\n",
    "- You can store them in data structures such as hash tables, lists, …"
   ]
  },
  {
   "cell_type": "code",
   "execution_count": 5,
   "metadata": {},
   "outputs": [],
   "source": [
    "def square(x):\n",
    "    return x*x\n",
    "\n",
    "def cube(x):\n",
    "    return x*x*x"
   ]
  },
  {
   "cell_type": "code",
   "execution_count": 2,
   "metadata": {},
   "outputs": [
    {
     "name": "stdout",
     "output_type": "stream",
     "text": [
      "<function square at 0x0000014783F791F0>\n",
      "25\n"
     ]
    }
   ],
   "source": [
    "f = square\n",
    "\n",
    "print(square)\n",
    "print(f(5))"
   ]
  },
  {
   "cell_type": "code",
   "execution_count": 3,
   "metadata": {},
   "outputs": [],
   "source": [
    "# using the function as argument. This is called higher order function.\n",
    "\n",
    "def my_map(func, arg_list):\n",
    "    result = []\n",
    "    for i in arg_list:\n",
    "        result.append(func(i))\n",
    "    return result"
   ]
  },
  {
   "cell_type": "code",
   "execution_count": 4,
   "metadata": {},
   "outputs": [
    {
     "name": "stdout",
     "output_type": "stream",
     "text": [
      "[1, 4, 9, 16, 25]\n"
     ]
    }
   ],
   "source": [
    "# we are not adding paranthesis to fuction when we pass them as argument\n",
    "\n",
    "squares = my_map(square, [1, 2, 3, 4, 5])\n",
    "\n",
    "print(squares)\n"
   ]
  },
  {
   "cell_type": "code",
   "execution_count": 5,
   "metadata": {},
   "outputs": [
    {
     "name": "stdout",
     "output_type": "stream",
     "text": [
      "Log: Hi!\n"
     ]
    }
   ],
   "source": [
    "# Return a function from another function\n",
    "\n",
    "def logger(msg):\n",
    "\n",
    "    def log_message():\n",
    "        print('Log:', msg)\n",
    "\n",
    "    return log_message\n",
    "\n",
    "# Between the two following function the functions remember the argument ('Hi!') we pass. This is called closure.\n",
    "log_hi = logger('Hi!')\n",
    "log_hi()"
   ]
  },
  {
   "cell_type": "code",
   "execution_count": 7,
   "metadata": {},
   "outputs": [
    {
     "name": "stdout",
     "output_type": "stream",
     "text": [
      "<h1>Test Headline!</h1>\n",
      "<h1>Another Headline!</h1>\n",
      "<h2>Second level Headline!</h2>\n",
      "<p>Test Paragraph!</p>\n"
     ]
    }
   ],
   "source": [
    "def html_tag(tag):\n",
    "\n",
    "    def wrap_text(msg):\n",
    "        print('<{0}>{1}</{0}>'.format(tag, msg))\n",
    "\n",
    "    return wrap_text\n",
    "\n",
    "print_h1 = html_tag('h1')\n",
    "print_h1('Test Headline!')\n",
    "print_h1('Another Headline!')\n",
    "\n",
    "print_h1 = html_tag('h2')\n",
    "print_h1('Second level Headline!')\n",
    "\n",
    "print_p = html_tag('p')\n",
    "print_p('Test Paragraph!')\n"
   ]
  },
  {
   "cell_type": "markdown",
   "metadata": {},
   "source": [
    "## Closure "
   ]
  },
  {
   "cell_type": "markdown",
   "metadata": {},
   "source": [
    "A closure is a record storing a function together with an environment: a mapping associating each free variable of the function with the value or storage location to which the name was bound when the closure was created. A closure, unlike a plain function, allow the function to access those captured variables through the closure's reference to them, even when the function is invoked outside their scope."
   ]
  },
  {
   "cell_type": "code",
   "execution_count": 8,
   "metadata": {},
   "outputs": [
    {
     "name": "stdout",
     "output_type": "stream",
     "text": [
      "Hi\n"
     ]
    }
   ],
   "source": [
    "def outer_func():\n",
    "    message = 'Hi'\n",
    "\n",
    "    def inner_func():\n",
    "        print(message)\n",
    "\n",
    "    return inner_func()\n",
    "\n",
    "outer_func()"
   ]
  },
  {
   "cell_type": "code",
   "execution_count": 11,
   "metadata": {},
   "outputs": [
    {
     "name": "stdout",
     "output_type": "stream",
     "text": [
      "<function outer_func.<locals>.inner_func at 0x00000147847A7820>\n",
      "inner_func\n",
      "Hi\n"
     ]
    }
   ],
   "source": [
    "def outer_func():\n",
    "    message = 'Hi'\n",
    "\n",
    "    def inner_func():\n",
    "        print(message)\n",
    "\n",
    "    return inner_func\n",
    "\n",
    "my_func = outer_func()\n",
    "print(my_func)\n",
    "print(my_func.__name__)\n",
    "\n",
    "my_func()"
   ]
  },
  {
   "cell_type": "code",
   "execution_count": 14,
   "metadata": {},
   "outputs": [
    {
     "name": "stdout",
     "output_type": "stream",
     "text": [
      "Hi\n",
      "Hello\n"
     ]
    }
   ],
   "source": [
    "def outer_func(msg):\n",
    "    message = msg\n",
    "\n",
    "    def inner_func():\n",
    "        print(message)\n",
    "\n",
    "    return inner_func\n",
    "\n",
    "hi_func = outer_func('Hi')\n",
    "hello_func = outer_func('Hello')\n",
    "\n",
    "\n",
    "hi_func()\n",
    "hello_func()"
   ]
  },
  {
   "cell_type": "markdown",
   "metadata": {},
   "source": [
    "A Closure closes over the free variables from there environment. In this case 'msg' is the free variable."
   ]
  },
  {
   "cell_type": "markdown",
   "metadata": {},
   "source": [
    "### Closures example"
   ]
  },
  {
   "cell_type": "code",
   "execution_count": null,
   "metadata": {},
   "outputs": [],
   "source": [
    "import logging\n",
    "logging.basicConfig(filename=\"example.log\", level=logging.INFO)\n",
    "\n",
    "def logger(func):\n",
    "    def log_func(*args):\n",
    "        logging.info('Running \"{}\" with arguments {}'.format(func.__name__, args))\n",
    "        print(func(*args))\n",
    "    return log_func\n",
    "\n",
    "def add(x, y):\n",
    "    return x*y\n",
    "\n",
    "def sub(x, y):\n",
    "    return x-y\n",
    "\n",
    "add_logger = logger(add)\n",
    "sub_logger = logger(sub)\n"
   ]
  },
  {
   "cell_type": "code",
   "execution_count": null,
   "metadata": {},
   "outputs": [],
   "source": [
    "add_logger(3, 3)\n",
    "add_logger(4, 5)\n",
    "\n",
    "sub_logger(10, 5)\n",
    "sub_logger(20, 10)"
   ]
  },
  {
   "cell_type": "markdown",
   "metadata": {},
   "source": [
    "## Decorators - Dynamically Alter The Functionality of Your Functions"
   ]
  },
  {
   "cell_type": "code",
   "execution_count": null,
   "metadata": {},
   "outputs": [],
   "source": [
    "# This is similar to the example we have seen in closure.\n",
    "\n",
    "def decorator_function(message):\n",
    "    def wrapper_function():\n",
    "        print(message)\n",
    "    return wrapper_function"
   ]
  },
  {
   "cell_type": "code",
   "execution_count": 6,
   "metadata": {},
   "outputs": [
    {
     "name": "stdout",
     "output_type": "stream",
     "text": [
      "wrapper executed this before display\n",
      "display function ran\n"
     ]
    }
   ],
   "source": [
    "# Now we will change the argument to the function from the variable.\n",
    "\n",
    "def decorator_function(original_function):\n",
    "    def wrapper_function():\n",
    "        print('wrapper executed this before {}'.format(original_function.__name__))\n",
    "        return original_function()\n",
    "    return wrapper_function\n",
    "    \n",
    "\n",
    "def display():\n",
    "    print('display function ran')\n",
    "\n",
    "decorated_display = decorator_function(display)\n",
    "\n",
    "decorated_display()"
   ]
  },
  {
   "cell_type": "markdown",
   "metadata": {},
   "source": [
    "A **decorator** is a design pattern tool in Python for wrapping code around functions or classes (defined blocks). This design pattern allows a programmer to add new functionality to existing functions or classes without modifying the existing structure.\n",
    "\n",
    "A decorator is a function that takes another function as an argument, does some actions, and then returns the argument based on the actions performed. Since functions are first-class object in Python, they can be passed as arguments to another functions.\n",
    "Hence we can say that a decorator is a callable that accepts and returns a callable."
   ]
  },
  {
   "cell_type": "code",
   "execution_count": 10,
   "metadata": {},
   "outputs": [
    {
     "name": "stdout",
     "output_type": "stream",
     "text": [
      "wrapper executed this before display\n",
      "display function ran\n"
     ]
    }
   ],
   "source": [
    "# This code is same as above. We just added @ symbol instead of creating a variable for function.\n",
    "\n",
    "def decorator_function(original_function):\n",
    "    def wrapper_function():\n",
    "        print('wrapper executed this before {}'.format(original_function.__name__))\n",
    "        return original_function()\n",
    "    return wrapper_function\n",
    "    \n",
    "# display = decorator_function(display)\n",
    "@decorator_function\n",
    "def display():\n",
    "    print('display function ran')\n",
    "\n",
    "\n",
    "display()"
   ]
  },
  {
   "cell_type": "markdown",
   "metadata": {},
   "source": [
    "### Second example"
   ]
  },
  {
   "cell_type": "code",
   "execution_count": 13,
   "metadata": {},
   "outputs": [
    {
     "name": "stdout",
     "output_type": "stream",
     "text": [
      "wrapper executed this before display_info\n",
      "display_info ran with arguments (Summer, 89)\n",
      "wrapper executed this before display\n",
      "display function ran\n"
     ]
    }
   ],
   "source": [
    "# Passing multiple numbers of argument\n",
    "\n",
    "def decorator_function(original_function):\n",
    "    def wrapper_function(*args, **kwargs):\n",
    "        print('wrapper executed this before {}'.format(original_function.__name__))\n",
    "        return original_function(*args, **kwargs)\n",
    "    return wrapper_function\n",
    "    \n",
    "\n",
    "@decorator_function\n",
    "def display():\n",
    "    print('display function ran')\n",
    "\n",
    "\n",
    "@decorator_function\n",
    "def display_info(name, age):\n",
    "    print('display_info ran with arguments ({}, {})'.format(name, age))\n",
    "\n",
    "display_info('Summer', 89)\n",
    "display()"
   ]
  },
  {
   "cell_type": "markdown",
   "metadata": {},
   "source": [
    "### Third example\n",
    "\n",
    "Class as a decorator"
   ]
  },
  {
   "cell_type": "code",
   "execution_count": 14,
   "metadata": {},
   "outputs": [
    {
     "name": "stdout",
     "output_type": "stream",
     "text": [
      "call method executed this before display_info\n",
      "display_info ran with arguments (Summer, 89)\n",
      "call method executed this before display\n",
      "display function ran\n"
     ]
    }
   ],
   "source": [
    "class decorator_class(object):\n",
    "\n",
    "    def __init__(self, origianl_function):\n",
    "        self.original_function = origianl_function\n",
    "\n",
    "    def __call__(self, *args, **kwds):\n",
    "        print('call method executed this before {}'.format(self.original_function.__name__))\n",
    "        return self.original_function(*args, **kwds)\n",
    "\n",
    "\n",
    "@decorator_class\n",
    "def display():\n",
    "    print('display function ran')\n",
    "\n",
    "\n",
    "@decorator_class\n",
    "def display_info(name, age):\n",
    "    print('display_info ran with arguments ({}, {})'.format(name, age))\n",
    "\n",
    "display_info('Summer', 89)\n",
    "display()"
   ]
  },
  {
   "cell_type": "markdown",
   "metadata": {},
   "source": [
    "### Practical example"
   ]
  },
  {
   "cell_type": "code",
   "execution_count": 18,
   "metadata": {},
   "outputs": [
    {
     "name": "stdout",
     "output_type": "stream",
     "text": [
      "display_info ran with arguments (Kartik, 49)\n"
     ]
    }
   ],
   "source": [
    "def my_logger(orig_func):\n",
    "    import logging\n",
    "    logging.basicConfig(filename='{}.log'.format(orig_func.__name__), level=logging.INFO)\n",
    "\n",
    "    def wrapper(*args, **kwargs):\n",
    "        logging.info(\"Ran with args: {}, and kwargs: {}\".format(args, kwargs))\n",
    "        return orig_func(*args, **kwargs)\n",
    "\n",
    "    return wrapper\n",
    "\n",
    "\n",
    "def my_timer(orig_func):\n",
    "    import time\n",
    "\n",
    "    def wrapper(*args, **kwargs):\n",
    "        t1 = time.time()\n",
    "        result = orig_func(*args, **kwargs)\n",
    "        t2 = time.time() - t1\n",
    "        print(\"{} ran in: {} sec\".format(orig_func.__name__, t2))\n",
    "        return result\n",
    "\n",
    "    return wrapper\n",
    "\n",
    "\n",
    "@my_logger\n",
    "def display_info(name, age):\n",
    "    print('display_info ran with arguments ({}, {})'.format(name, age))\n",
    "\n",
    "\n",
    "display_info('Kartik', 49)\n",
    "    "
   ]
  },
  {
   "cell_type": "code",
   "execution_count": 20,
   "metadata": {},
   "outputs": [
    {
     "name": "stdout",
     "output_type": "stream",
     "text": [
      "display_info ran with arguments (Aniket, 41)\n",
      "display_info ran in: 1.0038578510284424 sec\n"
     ]
    }
   ],
   "source": [
    "def my_logger(orig_func):\n",
    "    import logging\n",
    "    logging.basicConfig(filename='{}.log'.format(orig_func.__name__), level=logging.INFO)\n",
    "\n",
    "    def wrapper(*args, **kwargs):\n",
    "        logging.info(\"Ran with args: {}, and kwargs: {}\".format(args, kwargs))\n",
    "        return orig_func(*args, **kwargs)\n",
    "\n",
    "    return wrapper\n",
    "\n",
    "\n",
    "def my_timer(orig_func):\n",
    "    import time\n",
    "\n",
    "    def wrapper(*args, **kwargs):\n",
    "        t1 = time.time()\n",
    "        result = orig_func(*args, **kwargs)\n",
    "        t2 = time.time() - t1\n",
    "        print(\"{} ran in: {} sec\".format(orig_func.__name__, t2))\n",
    "        return result\n",
    "\n",
    "    return wrapper\n",
    "\n",
    "import time\n",
    "\n",
    "@my_timer\n",
    "def display_info(name, age):\n",
    "    time.sleep(1)\n",
    "    print('display_info ran with arguments ({}, {})'.format(name, age))\n",
    "\n",
    "\n",
    "display_info('Aniket', 41)"
   ]
  },
  {
   "cell_type": "markdown",
   "metadata": {},
   "source": [
    "### Using multiple decorators"
   ]
  },
  {
   "cell_type": "code",
   "execution_count": null,
   "metadata": {},
   "outputs": [],
   "source": [
    "from functools import wraps\n",
    "\n",
    "def my_logger(orig_func):\n",
    "    import logging\n",
    "    logging.basicConfig(filename='{}.log'.format(orig_func.__name__), level=logging.INFO)\n",
    "\n",
    "    @wraps(orig_func)\n",
    "    def wrapper(*args, **kwargs):\n",
    "        logging.info(\"Ran with args: {}, and kwargs: {}\".format(args, kwargs))\n",
    "        return orig_func(*args, **kwargs)\n",
    "\n",
    "    return wrapper\n",
    "\n",
    "\n",
    "def my_timer(orig_func):\n",
    "    import time\n",
    "\n",
    "    @wraps(orig_func)\n",
    "    def wrapper(*args, **kwargs):\n",
    "        t1 = time.time()\n",
    "        result = orig_func(*args, **kwargs)\n",
    "        t2 = time.time() - t1\n",
    "        print(\"{} ran in: {} sec\".format(orig_func.__name__, t2))\n",
    "        return result\n",
    "\n",
    "    return wrapper\n",
    "\n",
    "import time\n",
    "\n",
    "\n",
    "@my_logger\n",
    "@my_timer\n",
    "def display_info(name, age):\n",
    "    time.sleep(1)\n",
    "    print('display_info ran with arguments ({}, {})'.format(name, age))\n",
    "\n",
    "\n",
    "display_info('Geet', 41)"
   ]
  },
  {
   "cell_type": "markdown",
   "metadata": {},
   "source": [
    "## Important links\n",
    "\n",
    "[Corey](https://www.youtube.com/watch?v=FsAPt_9Bf3U)<br>\n",
    "[geeksforgeeks](https://www.geeksforgeeks.org/python-decorators-a-complete-guide/?ref=rp)"
   ]
  },
  {
   "cell_type": "markdown",
   "metadata": {},
   "source": []
  }
 ],
 "metadata": {
  "interpreter": {
   "hash": "ee5cc6fef2d70a7e71ee3826687cbd150f18158e0b1eef11d4f4f92bb920e304"
  },
  "kernelspec": {
   "display_name": "Python 3 (ipykernel)",
   "language": "python",
   "name": "python3"
  },
  "language_info": {
   "codemirror_mode": {
    "name": "ipython",
    "version": 3
   },
   "file_extension": ".py",
   "mimetype": "text/x-python",
   "name": "python",
   "nbconvert_exporter": "python",
   "pygments_lexer": "ipython3",
   "version": "3.9.12"
  }
 },
 "nbformat": 4,
 "nbformat_minor": 4
}
