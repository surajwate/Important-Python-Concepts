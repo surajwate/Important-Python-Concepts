{
 "cells": [
  {
   "cell_type": "markdown",
   "source": [
    "# Decorators\r\n"
   ],
   "metadata": {}
  },
  {
   "cell_type": "markdown",
   "source": [
    "## First-Class Functions\r\n",
    "\r\n",
    "\"A Programming language is said to have first-class functions if it treasts functions as first-class citizens.\"\r\n",
    "\r\n",
    "### First-Class Citizen (Programming)\r\n",
    "\r\n",
    "\"A first-class citizen (sometimes called first-class objects) in a programming language is an entity which supposts all the operations generally available to other entities. These operations typically include being passed as an argument, returned from a function, and assigned to a variable."
   ],
   "metadata": {}
  },
  {
   "cell_type": "markdown",
   "source": [
    "## First Class Objects\r\n",
    "\r\n",
    "In Python, functions are first class objects that means that functions in Python can be used or passed as arguments.\r\n",
    "\r\n",
    "Properties of first class functions:\r\n",
    "\r\n",
    "- A function is an instance of the Object type.\r\n",
    "- You can store the function in a variable.\r\n",
    "- You can pass the function as a parameter to another function.\r\n",
    "- You can return the function from a function.\r\n",
    "- You can store them in data structures such as hash tables, lists, …"
   ],
   "metadata": {}
  },
  {
   "cell_type": "code",
   "execution_count": 5,
   "source": [
    "def square(x):\r\n",
    "    return x*x\r\n",
    "\r\n",
    "def cube(x):\r\n",
    "    return x*x*x"
   ],
   "outputs": [],
   "metadata": {}
  },
  {
   "cell_type": "code",
   "execution_count": 2,
   "source": [
    "f = square\r\n",
    "\r\n",
    "print(square)\r\n",
    "print(f(5))"
   ],
   "outputs": [
    {
     "output_type": "stream",
     "name": "stdout",
     "text": [
      "<function square at 0x0000014783F791F0>\n",
      "25\n"
     ]
    }
   ],
   "metadata": {}
  },
  {
   "cell_type": "code",
   "execution_count": 3,
   "source": [
    "# using the function as argument. This is called higher order function.\r\n",
    "\r\n",
    "def my_map(func, arg_list):\r\n",
    "    result = []\r\n",
    "    for i in arg_list:\r\n",
    "        result.append(func(i))\r\n",
    "    return result"
   ],
   "outputs": [],
   "metadata": {}
  },
  {
   "cell_type": "code",
   "execution_count": 4,
   "source": [
    "# we are not adding paranthesis to fuction when we pass them as argument\r\n",
    "\r\n",
    "squares = my_map(square, [1, 2, 3, 4, 5])\r\n",
    "\r\n",
    "print(squares)\r\n"
   ],
   "outputs": [
    {
     "output_type": "stream",
     "name": "stdout",
     "text": [
      "[1, 4, 9, 16, 25]\n"
     ]
    }
   ],
   "metadata": {}
  },
  {
   "cell_type": "code",
   "execution_count": 5,
   "source": [
    "# Return a function from another function\r\n",
    "\r\n",
    "def logger(msg):\r\n",
    "\r\n",
    "    def log_message():\r\n",
    "        print('Log:', msg)\r\n",
    "\r\n",
    "    return log_message\r\n",
    "\r\n",
    "# Between the two following function the functions remember the argument ('Hi!') we pass. This is called closure.\r\n",
    "log_hi = logger('Hi!')\r\n",
    "log_hi()"
   ],
   "outputs": [
    {
     "output_type": "stream",
     "name": "stdout",
     "text": [
      "Log: Hi!\n"
     ]
    }
   ],
   "metadata": {}
  },
  {
   "cell_type": "code",
   "execution_count": 7,
   "source": [
    "def html_tag(tag):\r\n",
    "\r\n",
    "    def wrap_text(msg):\r\n",
    "        print('<{0}>{1}</{0}>'.format(tag, msg))\r\n",
    "\r\n",
    "    return wrap_text\r\n",
    "\r\n",
    "print_h1 = html_tag('h1')\r\n",
    "print_h1('Test Headline!')\r\n",
    "print_h1('Another Headline!')\r\n",
    "\r\n",
    "print_h1 = html_tag('h2')\r\n",
    "print_h1('Second level Headline!')\r\n",
    "\r\n",
    "print_p = html_tag('p')\r\n",
    "print_p('Test Paragraph!')\r\n"
   ],
   "outputs": [
    {
     "output_type": "stream",
     "name": "stdout",
     "text": [
      "<h1>Test Headline!</h1>\n",
      "<h1>Another Headline!</h1>\n",
      "<h2>Second level Headline!</h2>\n",
      "<p>Test Paragraph!</p>\n"
     ]
    }
   ],
   "metadata": {}
  },
  {
   "cell_type": "markdown",
   "source": [
    "## Closure "
   ],
   "metadata": {}
  },
  {
   "cell_type": "markdown",
   "source": [
    "A closure is a record storing a function together with an environment: a mapping associating each free variable of the function with the value or storage location to which the name was bound when the closure was created. A closure, unlike a plain function, allow the function to access those captured variables through the closure's reference to them, even when the function is invoked outside their scope."
   ],
   "metadata": {}
  },
  {
   "cell_type": "code",
   "execution_count": 8,
   "source": [
    "def outer_func():\r\n",
    "    message = 'Hi'\r\n",
    "\r\n",
    "    def inner_func():\r\n",
    "        print(message)\r\n",
    "\r\n",
    "    return inner_func()\r\n",
    "\r\n",
    "outer_func()"
   ],
   "outputs": [
    {
     "output_type": "stream",
     "name": "stdout",
     "text": [
      "Hi\n"
     ]
    }
   ],
   "metadata": {}
  },
  {
   "cell_type": "code",
   "execution_count": 11,
   "source": [
    "def outer_func():\r\n",
    "    message = 'Hi'\r\n",
    "\r\n",
    "    def inner_func():\r\n",
    "        print(message)\r\n",
    "\r\n",
    "    return inner_func\r\n",
    "\r\n",
    "my_func = outer_func()\r\n",
    "print(my_func)\r\n",
    "print(my_func.__name__)\r\n",
    "\r\n",
    "my_func()"
   ],
   "outputs": [
    {
     "output_type": "stream",
     "name": "stdout",
     "text": [
      "<function outer_func.<locals>.inner_func at 0x00000147847A7820>\n",
      "inner_func\n",
      "Hi\n"
     ]
    }
   ],
   "metadata": {}
  },
  {
   "cell_type": "code",
   "execution_count": 14,
   "source": [
    "def outer_func(msg):\r\n",
    "    message = msg\r\n",
    "\r\n",
    "    def inner_func():\r\n",
    "        print(message)\r\n",
    "\r\n",
    "    return inner_func\r\n",
    "\r\n",
    "hi_func = outer_func('Hi')\r\n",
    "hello_func = outer_func('Hello')\r\n",
    "\r\n",
    "\r\n",
    "hi_func()\r\n",
    "hello_func()"
   ],
   "outputs": [
    {
     "output_type": "stream",
     "name": "stdout",
     "text": [
      "Hi\n",
      "Hello\n"
     ]
    }
   ],
   "metadata": {}
  },
  {
   "cell_type": "markdown",
   "source": [
    "A Closure closes over the free variables from there environment. In this case 'msg' is the free variable."
   ],
   "metadata": {}
  },
  {
   "cell_type": "markdown",
   "source": [
    "### Closures example"
   ],
   "metadata": {}
  },
  {
   "cell_type": "code",
   "execution_count": null,
   "source": [
    "import logging\r\n",
    "logging.basicConfig(filename=\"example.log\", level=logging.INFO)\r\n",
    "\r\n",
    "def logger(func):\r\n",
    "    def log_func(*args):\r\n",
    "        logging.info('Running \"{}\" with arguments {}'.format(func.__name__, args))\r\n",
    "        print(func(*args))\r\n",
    "    return log_func\r\n",
    "\r\n",
    "def add(x, y):\r\n",
    "    return x*y\r\n",
    "\r\n",
    "def sub(x, y):\r\n",
    "    return x-y\r\n",
    "\r\n",
    "add_logger = logger(add)\r\n",
    "sub_logger = logger(sub)\r\n"
   ],
   "outputs": [],
   "metadata": {}
  },
  {
   "cell_type": "code",
   "execution_count": null,
   "source": [
    "add_logger(3, 3)\r\n",
    "add_logger(4, 5)\r\n",
    "\r\n",
    "sub_logger(10, 5)\r\n",
    "sub_logger(20, 10)"
   ],
   "outputs": [],
   "metadata": {}
  },
  {
   "cell_type": "markdown",
   "source": [
    "## Decorators - Dynamically Alter The Functionality of Your Functions"
   ],
   "metadata": {}
  },
  {
   "cell_type": "code",
   "execution_count": null,
   "source": [
    "# This is similar to the example we have seen in closure.\r\n",
    "\r\n",
    "def decorator_function(message):\r\n",
    "    def wrapper_function():\r\n",
    "        print(message)\r\n",
    "    return wrapper_function"
   ],
   "outputs": [],
   "metadata": {}
  },
  {
   "cell_type": "code",
   "execution_count": 6,
   "source": [
    "# Now we will change the argument to the function from the variable.\r\n",
    "\r\n",
    "def decorator_function(original_function):\r\n",
    "    def wrapper_function():\r\n",
    "        print('wrapper executed this before {}'.format(original_function.__name__))\r\n",
    "        return original_function()\r\n",
    "    return wrapper_function\r\n",
    "    \r\n",
    "\r\n",
    "def display():\r\n",
    "    print('display function ran')\r\n",
    "\r\n",
    "decorated_display = decorator_function(display)\r\n",
    "\r\n",
    "decorated_display()"
   ],
   "outputs": [
    {
     "output_type": "stream",
     "name": "stdout",
     "text": [
      "wrapper executed this before display\n",
      "display function ran\n"
     ]
    }
   ],
   "metadata": {}
  },
  {
   "cell_type": "markdown",
   "source": [
    "A **decorator** is a design pattern tool in Python for wrapping code around functions or classes (defined blocks). This design pattern allows a programmer to add new functionality to existing functions or classes without modifying the existing structure.\r\n",
    "\r\n",
    "A decorator is a function that takes another function as an argument, does some actions, and then returns the argument based on the actions performed. Since functions are first-class object in Python, they can be passed as arguments to another functions.\r\n",
    "Hence we can say that a decorator is a callable that accepts and returns a callable."
   ],
   "metadata": {}
  },
  {
   "cell_type": "code",
   "execution_count": 10,
   "source": [
    "# This code is same as above. We just added @ symbol instead of creating a variable for function.\r\n",
    "\r\n",
    "def decorator_function(original_function):\r\n",
    "    def wrapper_function():\r\n",
    "        print('wrapper executed this before {}'.format(original_function.__name__))\r\n",
    "        return original_function()\r\n",
    "    return wrapper_function\r\n",
    "    \r\n",
    "# display = decorator_function(display)\r\n",
    "@decorator_function\r\n",
    "def display():\r\n",
    "    print('display function ran')\r\n",
    "\r\n",
    "\r\n",
    "display()"
   ],
   "outputs": [
    {
     "output_type": "stream",
     "name": "stdout",
     "text": [
      "wrapper executed this before display\n",
      "display function ran\n"
     ]
    }
   ],
   "metadata": {}
  },
  {
   "cell_type": "markdown",
   "source": [
    "### Second example"
   ],
   "metadata": {}
  },
  {
   "cell_type": "code",
   "execution_count": 13,
   "source": [
    "# Passing multiple numbers of argument\r\n",
    "\r\n",
    "def decorator_function(original_function):\r\n",
    "    def wrapper_function(*args, **kwargs):\r\n",
    "        print('wrapper executed this before {}'.format(original_function.__name__))\r\n",
    "        return original_function(*args, **kwargs)\r\n",
    "    return wrapper_function\r\n",
    "    \r\n",
    "\r\n",
    "@decorator_function\r\n",
    "def display():\r\n",
    "    print('display function ran')\r\n",
    "\r\n",
    "\r\n",
    "@decorator_function\r\n",
    "def display_info(name, age):\r\n",
    "    print('display_info ran with arguments ({}, {})'.format(name, age))\r\n",
    "\r\n",
    "display_info('Summer', 89)\r\n",
    "display()"
   ],
   "outputs": [
    {
     "output_type": "stream",
     "name": "stdout",
     "text": [
      "wrapper executed this before display_info\n",
      "display_info ran with arguments (Summer, 89)\n",
      "wrapper executed this before display\n",
      "display function ran\n"
     ]
    }
   ],
   "metadata": {}
  },
  {
   "cell_type": "markdown",
   "source": [
    "### Third example\r\n",
    "\r\n",
    "Class as a decorator"
   ],
   "metadata": {}
  },
  {
   "cell_type": "code",
   "execution_count": 14,
   "source": [
    "class decorator_class(object):\r\n",
    "\r\n",
    "    def __init__(self, origianl_function):\r\n",
    "        self.original_function = origianl_function\r\n",
    "\r\n",
    "    def __call__(self, *args, **kwds):\r\n",
    "        print('call method executed this before {}'.format(self.original_function.__name__))\r\n",
    "        return self.original_function(*args, **kwds)\r\n",
    "\r\n",
    "\r\n",
    "@decorator_class\r\n",
    "def display():\r\n",
    "    print('display function ran')\r\n",
    "\r\n",
    "\r\n",
    "@decorator_class\r\n",
    "def display_info(name, age):\r\n",
    "    print('display_info ran with arguments ({}, {})'.format(name, age))\r\n",
    "\r\n",
    "display_info('Summer', 89)\r\n",
    "display()"
   ],
   "outputs": [
    {
     "output_type": "stream",
     "name": "stdout",
     "text": [
      "call method executed this before display_info\n",
      "display_info ran with arguments (Summer, 89)\n",
      "call method executed this before display\n",
      "display function ran\n"
     ]
    }
   ],
   "metadata": {}
  },
  {
   "cell_type": "markdown",
   "source": [
    "### Practical example"
   ],
   "metadata": {}
  },
  {
   "cell_type": "code",
   "execution_count": 18,
   "source": [
    "def my_logger(orig_func):\r\n",
    "    import logging\r\n",
    "    logging.basicConfig(filename='{}.log'.format(orig_func.__name__), level=logging.INFO)\r\n",
    "\r\n",
    "    def wrapper(*args, **kwargs):\r\n",
    "        logging.info(\"Ran with args: {}, and kwargs: {}\".format(args, kwargs))\r\n",
    "        return orig_func(*args, **kwargs)\r\n",
    "\r\n",
    "    return wrapper\r\n",
    "\r\n",
    "\r\n",
    "def my_timer(orig_func):\r\n",
    "    import time\r\n",
    "\r\n",
    "    def wrapper(*args, **kwargs):\r\n",
    "        t1 = time.time()\r\n",
    "        result = orig_func(*args, **kwargs)\r\n",
    "        t2 = time.time() - t1\r\n",
    "        print(\"{} ran in: {} sec\".format(orig_func.__name__, t2))\r\n",
    "        return result\r\n",
    "\r\n",
    "    return wrapper\r\n",
    "\r\n",
    "\r\n",
    "@my_logger\r\n",
    "def display_info(name, age):\r\n",
    "    print('display_info ran with arguments ({}, {})'.format(name, age))\r\n",
    "\r\n",
    "\r\n",
    "display_info('Kartik', 49)\r\n",
    "    "
   ],
   "outputs": [
    {
     "output_type": "stream",
     "name": "stdout",
     "text": [
      "display_info ran with arguments (Kartik, 49)\n"
     ]
    }
   ],
   "metadata": {}
  },
  {
   "cell_type": "code",
   "execution_count": 20,
   "source": [
    "def my_logger(orig_func):\r\n",
    "    import logging\r\n",
    "    logging.basicConfig(filename='{}.log'.format(orig_func.__name__), level=logging.INFO)\r\n",
    "\r\n",
    "    def wrapper(*args, **kwargs):\r\n",
    "        logging.info(\"Ran with args: {}, and kwargs: {}\".format(args, kwargs))\r\n",
    "        return orig_func(*args, **kwargs)\r\n",
    "\r\n",
    "    return wrapper\r\n",
    "\r\n",
    "\r\n",
    "def my_timer(orig_func):\r\n",
    "    import time\r\n",
    "\r\n",
    "    def wrapper(*args, **kwargs):\r\n",
    "        t1 = time.time()\r\n",
    "        result = orig_func(*args, **kwargs)\r\n",
    "        t2 = time.time() - t1\r\n",
    "        print(\"{} ran in: {} sec\".format(orig_func.__name__, t2))\r\n",
    "        return result\r\n",
    "\r\n",
    "    return wrapper\r\n",
    "\r\n",
    "import time\r\n",
    "\r\n",
    "@my_timer\r\n",
    "def display_info(name, age):\r\n",
    "    time.sleep(1)\r\n",
    "    print('display_info ran with arguments ({}, {})'.format(name, age))\r\n",
    "\r\n",
    "\r\n",
    "display_info('Aniket', 41)"
   ],
   "outputs": [
    {
     "output_type": "stream",
     "name": "stdout",
     "text": [
      "display_info ran with arguments (Aniket, 41)\n",
      "display_info ran in: 1.0038578510284424 sec\n"
     ]
    }
   ],
   "metadata": {}
  },
  {
   "cell_type": "markdown",
   "source": [
    "### Using multiple decorators"
   ],
   "metadata": {}
  },
  {
   "cell_type": "code",
   "execution_count": null,
   "source": [
    "from functools import wraps\r\n",
    "\r\n",
    "def my_logger(orig_func):\r\n",
    "    import logging\r\n",
    "    logging.basicConfig(filename='{}.log'.format(orig_func.__name__), level=logging.INFO)\r\n",
    "\r\n",
    "    @wraps(orig_func)\r\n",
    "    def wrapper(*args, **kwargs):\r\n",
    "        logging.info(\"Ran with args: {}, and kwargs: {}\".format(args, kwargs))\r\n",
    "        return orig_func(*args, **kwargs)\r\n",
    "\r\n",
    "    return wrapper\r\n",
    "\r\n",
    "\r\n",
    "def my_timer(orig_func):\r\n",
    "    import time\r\n",
    "\r\n",
    "    @wraps(orig_func)\r\n",
    "    def wrapper(*args, **kwargs):\r\n",
    "        t1 = time.time()\r\n",
    "        result = orig_func(*args, **kwargs)\r\n",
    "        t2 = time.time() - t1\r\n",
    "        print(\"{} ran in: {} sec\".format(orig_func.__name__, t2))\r\n",
    "        return result\r\n",
    "\r\n",
    "    return wrapper\r\n",
    "\r\n",
    "import time\r\n",
    "\r\n",
    "\r\n",
    "@my_logger\r\n",
    "@my_timer\r\n",
    "def display_info(name, age):\r\n",
    "    time.sleep(1)\r\n",
    "    print('display_info ran with arguments ({}, {})'.format(name, age))\r\n",
    "\r\n",
    "\r\n",
    "display_info('Geet', 41)"
   ],
   "outputs": [],
   "metadata": {}
  },
  {
   "cell_type": "markdown",
   "source": [
    "## Important links\r\n",
    "\r\n",
    "[Corey](https://www.youtube.com/watch?v=FsAPt_9Bf3U)<br>\r\n",
    "[geeksforgeeks](https://www.geeksforgeeks.org/python-decorators-a-complete-guide/?ref=rp)"
   ],
   "metadata": {}
  },
  {
   "cell_type": "markdown",
   "source": [],
   "metadata": {}
  }
 ],
 "metadata": {
  "orig_nbformat": 4,
  "language_info": {
   "name": "python",
   "version": "3.9.5",
   "mimetype": "text/x-python",
   "codemirror_mode": {
    "name": "ipython",
    "version": 3
   },
   "pygments_lexer": "ipython3",
   "nbconvert_exporter": "python",
   "file_extension": ".py"
  },
  "kernelspec": {
   "name": "python3",
   "display_name": "Python 3.9.5 64-bit"
  },
  "interpreter": {
   "hash": "ee5cc6fef2d70a7e71ee3826687cbd150f18158e0b1eef11d4f4f92bb920e304"
  }
 },
 "nbformat": 4,
 "nbformat_minor": 2
}