{
 "cells": [
  {
   "cell_type": "markdown",
   "source": [
    "# SQLite Tutorial "
   ],
   "metadata": {}
  },
  {
   "cell_type": "code",
   "execution_count": 10,
   "source": [
    "class Employee:\r\n",
    "    \"\"\"A sample Employee class.\"\"\"\r\n",
    "\r\n",
    "    def __init__(self, first, last, pay):\r\n",
    "        self.first = first\r\n",
    "        self.last = last\r\n",
    "        self.pay = pay\r\n",
    "\r\n",
    "\r\n",
    "    @property\r\n",
    "    def email(self):\r\n",
    "        return '{}.{}@email.com'.format(self.first, self.last)\r\n",
    "\r\n",
    "    @property\r\n",
    "    def fullname(self):\r\n",
    "        return '{} {}'.format(self.first, self.last)\r\n",
    "\r\n",
    "    def __repr__(self):\r\n",
    "        return \"Employee('{}', '{}', {})\".format(self.first, self.last, self.pay)\r\n",
    "\r\n",
    "    "
   ],
   "outputs": [],
   "metadata": {}
  },
  {
   "cell_type": "markdown",
   "source": [
    "## Creating a database \r\n",
    "\r\n",
    "Creating a database enployee with the table employees."
   ],
   "metadata": {}
  },
  {
   "cell_type": "code",
   "execution_count": 11,
   "source": [
    "import sqlite3\r\n",
    "\r\n",
    "conn = sqlite3.connect('employee.db')\r\n",
    "\r\n",
    "c = conn.cursor()\r\n",
    "\r\n",
    "c.execute(\"\"\"CREATE TABLE employees (\r\n",
    "            first TEXT,\r\n",
    "            last TEXT,\r\n",
    "            pay INTEGER\r\n",
    "        )\"\"\")\r\n",
    "\r\n",
    "\r\n",
    "conn.commit()\r\n",
    "conn.close()"
   ],
   "outputs": [],
   "metadata": {}
  },
  {
   "cell_type": "markdown",
   "source": [
    "## Insert the data\r\n",
    "\r\n",
    "Insert the data into database employees"
   ],
   "metadata": {}
  },
  {
   "cell_type": "code",
   "execution_count": 12,
   "source": [
    "import sqlite3\r\n",
    "\r\n",
    "conn = sqlite3.connect('employee.db')\r\n",
    "\r\n",
    "c = conn.cursor()\r\n",
    "\r\n",
    "c.execute(\"INSERT INTO employees VALUES ('Amit', 'Dravid', 50000)\")\r\n",
    "\r\n",
    "\r\n",
    "conn.commit()\r\n",
    "conn.close()"
   ],
   "outputs": [],
   "metadata": {}
  },
  {
   "cell_type": "markdown",
   "source": [
    "## Retreiving the data\r\n",
    "\r\n",
    "Retreiving the data from the table employees."
   ],
   "metadata": {}
  },
  {
   "cell_type": "code",
   "execution_count": 13,
   "source": [
    "import sqlite3\r\n",
    "\r\n",
    "conn = sqlite3.connect('employee.db')\r\n",
    "\r\n",
    "c = conn.cursor()\r\n",
    "\r\n",
    "c.execute(\"select * from employees\")\r\n",
    "\r\n",
    "print(c.fetchone())\r\n",
    "\r\n",
    "\r\n",
    "conn.commit()\r\n",
    "conn.close()"
   ],
   "outputs": [
    {
     "output_type": "stream",
     "name": "stdout",
     "text": [
      "('Amit', 'Dravid', 50000)\n"
     ]
    }
   ],
   "metadata": {}
  },
  {
   "cell_type": "code",
   "execution_count": 14,
   "source": [
    "import sqlite3\r\n",
    "\r\n",
    "conn = sqlite3.connect('employee.db')\r\n",
    "\r\n",
    "c = conn.cursor()\r\n",
    "\r\n",
    "c.execute(\"INSERT INTO employees VALUES ('Sachin', 'Rahane', 54000)\")\r\n",
    "conn.commit()\r\n",
    "\r\n",
    "c.execute(\"select * from employees\")\r\n",
    "print(c.fetchall())\r\n",
    "\r\n",
    "\r\n",
    "conn.close()"
   ],
   "outputs": [
    {
     "output_type": "stream",
     "name": "stdout",
     "text": [
      "[('Amit', 'Dravid', 50000), ('Sachin', 'Rahane', 54000)]\n"
     ]
    }
   ],
   "metadata": {}
  },
  {
   "cell_type": "code",
   "execution_count": 15,
   "source": [
    "# Different ways of inserting the data into database.\r\n",
    "\r\n",
    "import sqlite3\r\n",
    "\r\n",
    "conn = sqlite3.connect('employee.db')\r\n",
    "\r\n",
    "c = conn.cursor()\r\n",
    "\r\n",
    "emp1 = Employee('Naresh', 'Batra', 58000)\r\n",
    "emp2 = Employee('Rohit', 'Nandy', 51000)\r\n",
    "\r\n",
    "c.execute(\"INSERT INTO employees VALUES (?, ?, ?)\", (emp1.first, emp1.last, emp1.pay))\r\n",
    "c.execute(\"INSERT INTO employees VALUES (:first, :last, :pay)\", {'first':emp1.first, 'last':emp2.last, 'pay':emp2.pay})\r\n",
    "\r\n",
    "conn.commit()\r\n",
    "\r\n",
    "c.execute(\"select * from employees\")\r\n",
    "print(c.fetchall())\r\n",
    "\r\n",
    "\r\n",
    "conn.close()"
   ],
   "outputs": [
    {
     "output_type": "stream",
     "name": "stdout",
     "text": [
      "[('Amit', 'Dravid', 50000), ('Sachin', 'Rahane', 54000), ('Naresh', 'Batra', 58000), ('Naresh', 'Nandy', 51000)]\n"
     ]
    }
   ],
   "metadata": {}
  },
  {
   "cell_type": "code",
   "execution_count": 17,
   "source": [
    "# Different ways of selecting the data into database.\r\n",
    "\r\n",
    "import sqlite3\r\n",
    "\r\n",
    "conn = sqlite3.connect('employee.db')\r\n",
    "\r\n",
    "c = conn.cursor()\r\n",
    "\r\n",
    "c.execute(\"select * from employees where first=?\", ('Sachin',))\r\n",
    "print(c.fetchall())\r\n",
    "c.execute(\"select * from employees where last=:last\", {'last': 'Batra'})\r\n",
    "print(c.fetchall())\r\n",
    "\r\n",
    "\r\n",
    "conn.close()"
   ],
   "outputs": [
    {
     "output_type": "stream",
     "name": "stdout",
     "text": [
      "[('Sachin', 'Rahane', 54000)]\n",
      "[('Naresh', 'Batra', 58000)]\n"
     ]
    }
   ],
   "metadata": {}
  },
  {
   "cell_type": "code",
   "execution_count": null,
   "source": [
    "## In memory operation using context manager.\r\n",
    "\r\n",
    "import sqlite3\r\n",
    "from employee import Employee\r\n",
    "\r\n",
    "conn = sqlite3.connect(':memory:')\r\n",
    "\r\n",
    "c = conn.cursor()\r\n",
    "\r\n",
    "c.execute(\"\"\"CREATE TABLE employees (\r\n",
    "            first text,\r\n",
    "            last text,\r\n",
    "            pay integer\r\n",
    "            )\"\"\")\r\n",
    "\r\n",
    "\r\n",
    "def insert_emp(emp):\r\n",
    "    with conn:\r\n",
    "        c.execute(\"INSERT INTO employees VALUES (:first, :last, :pay)\", {'first': emp.first, 'last': emp.last, 'pay': emp.pay})\r\n",
    "\r\n",
    "\r\n",
    "def get_emps_by_name(lastname):\r\n",
    "    c.execute(\"SELECT * FROM employees WHERE last=:last\", {'last': lastname})\r\n",
    "    return c.fetchall()\r\n",
    "\r\n",
    "\r\n",
    "def update_pay(emp, pay):\r\n",
    "    with conn:\r\n",
    "        c.execute(\"\"\"UPDATE employees SET pay = :pay\r\n",
    "                    WHERE first = :first AND last = :last\"\"\",\r\n",
    "                  {'first': emp.first, 'last': emp.last, 'pay': pay})\r\n",
    "\r\n",
    "\r\n",
    "def remove_emp(emp):\r\n",
    "    with conn:\r\n",
    "        c.execute(\"DELETE from employees WHERE first = :first AND last = :last\",\r\n",
    "                  {'first': emp.first, 'last': emp.last})\r\n",
    "\r\n",
    "emp_1 = Employee('John', 'Doe', 80000)\r\n",
    "emp_2 = Employee('Jane', 'Doe', 90000)\r\n",
    "\r\n",
    "insert_emp(emp_1)\r\n",
    "insert_emp(emp_2)\r\n",
    "\r\n",
    "emps = get_emps_by_name('Doe')\r\n",
    "print(emps)\r\n",
    "\r\n",
    "update_pay(emp_2, 95000)\r\n",
    "remove_emp(emp_1)\r\n",
    "\r\n",
    "emps = get_emps_by_name('Doe')\r\n",
    "print(emps)\r\n",
    "\r\n",
    "conn.close()"
   ],
   "outputs": [],
   "metadata": {}
  }
 ],
 "metadata": {
  "orig_nbformat": 4,
  "language_info": {
   "name": "python",
   "version": "3.8.5",
   "mimetype": "text/x-python",
   "codemirror_mode": {
    "name": "ipython",
    "version": 3
   },
   "pygments_lexer": "ipython3",
   "nbconvert_exporter": "python",
   "file_extension": ".py"
  },
  "kernelspec": {
   "name": "python3",
   "display_name": "Python 3.8.5 64-bit ('base': conda)"
  },
  "interpreter": {
   "hash": "40bf8eb891a54e34089fdca0d4bd01242912015f52133965af404fef137a91ce"
  }
 },
 "nbformat": 4,
 "nbformat_minor": 2
}